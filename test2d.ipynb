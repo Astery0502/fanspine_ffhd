{
 "cells": [
  {
   "cell_type": "markdown",
   "metadata": {},
   "source": [
    "### Main Process"
   ]
  },
  {
   "cell_type": "code",
   "execution_count": null,
   "metadata": {},
   "outputs": [],
   "source": [
    "import yt\n",
    "import glob\n",
    "import os\n",
    "from simesh.frontends.amrvac.datio import get_header\n",
    "\n",
    "data_slice = './datas'\n",
    "slice_list = glob.glob(os.path.join(data_slice, 'fs2d*.dat'))\n",
    "slice_list.sort()\n",
    "\n",
    "units = dict(length_unit=(1e9, 'cm'), temperature_unit=(1e6, 'K'),\n",
    "            numberdensity_unit=(1e9, 'cm**-3'))"
   ]
  },
  {
   "cell_type": "code",
   "execution_count": null,
   "metadata": {},
   "outputs": [],
   "source": [
    "slice0 = slice_list[50]\n",
    "# slice0 = './fs2d/data/fs2d0000.dat'\n",
    "ds = yt.load(slice0, units_override=units, unit_system='cgs')\n",
    "phys_vars = ['Te']\n",
    "for var in phys_vars:\n",
    "    p = yt.plot_2d(ds, var, origin='native')\n",
    "    # p.set_log(var, False)\n",
    "    # p.set_zlim(var, 1e-1, 1)\n",
    "    # p.set_zlim(var, -10, 0)\n",
    "    p.annotate_timestamp()\n",
    "    # p.annotate_grids()\n",
    "    p.show()"
   ]
  },
  {
   "cell_type": "code",
   "execution_count": null,
   "metadata": {},
   "outputs": [],
   "source": [
    "for i in range(0,len(slice_list)):\n",
    "    slice0 = slice_list[i]\n",
    "    ds = yt.load(slice0, units_override=units, unit_system='cgs')\n",
    "    phys_vars = ['rho']\n",
    "    for var in phys_vars:\n",
    "        p = yt.plot_2d(ds, var, origin='native')\n",
    "        if var == 'rho':\n",
    "            p.set_zlim(var, 1e-1, 1e0)\n",
    "        p.annotate_timestamp()\n",
    "        p.save('./figs/fs2d'+str(i).zfill(4)+'_'+var+'.png')\n",
    "# ffmpeg -framerate 12 -pattern_type glob -i ./figs/'fs2d*_rho.png' -vf \"scale=trunc(iw/2)*2:trunc(ih/2)*2\" -c:v libx264 -pix_fmt yuv420p rho.mp4 "
   ]
  },
  {
   "cell_type": "markdown",
   "metadata": {},
   "source": [
    "### Analysis on the cooling curve (Colgan_DM)"
   ]
  },
  {
   "cell_type": "code",
   "execution_count": null,
   "metadata": {},
   "outputs": [],
   "source": [
    "import numpy as np\n",
    "\n",
    "fiso = './fs2d/data/ciso.bin'\n",
    "\n",
    "def read_ciso(filename):\n",
    "    with open(filename, 'rb') as f:\n",
    "        ncool = np.fromfile(f, dtype=np.int32, count=1)[0]\n",
    "        tcool = np.fromfile(f, dtype=np.float64, count=ncool)\n",
    "        Lcool = np.fromfile(f, dtype=np.float64, count=ncool)\n",
    "        ciso1 = np.fromfile(f, dtype=np.float64, count=ncool)\n",
    "    return tcool, Lcool, ciso1"
   ]
  },
  {
   "cell_type": "code",
   "execution_count": null,
   "metadata": {},
   "outputs": [],
   "source": [
    "import matplotlib.pyplot as plt\n",
    "\n",
    "tcool, Lcool, ciso1 = read_ciso(fiso)\n",
    "plt.plot(tcool, Lcool)\n",
    "plt.xlabel('T (1 MK)')\n",
    "plt.ylabel(r'$\\Lambda(T)\\ (normalised)$')\n",
    "plt.title('Cooling curve')\n",
    "plt.loglog()\n",
    "plt.show()"
   ]
  },
  {
   "cell_type": "markdown",
   "metadata": {},
   "source": [
    "$$ C_{isobaric} = \\rho (\\frac{\\partial L}{\\partial T})_\\rho - \\frac{\\rho^2}{T}(\\frac{\\partial L}{\\partial \\rho})_T + k^2 \\kappa < 0$$\n",
    "$$L = n_H n_e \\Lambda(T)/\\rho \\ \\text{, which \\ is} \\ \\rho^{\\prime 2} \\Lambda^{\\prime}(T^{\\prime}) / \\rho^{\\prime} \\ \\text{in normalised unit}$$\n",
    "$$C_{isobaric} = \\rho^2(\\frac{\\partial \\Lambda(T)}{\\partial T}-\\frac{\\Lambda(T)}{T})+k^2 \\kappa$$\n",
    "> Xia et al. 2011"
   ]
  },
  {
   "cell_type": "code",
   "execution_count": null,
   "metadata": {},
   "outputs": [],
   "source": [
    "# plt.plot(tcool, ciso1)\n",
    "plt.xlabel('T (1 MK)')\n",
    "plt.ylabel(r'$ - (\\partial\\Lambda(T)/\\partial T-\\Lambda(T)/T)\\ (normalised)$')\n",
    "plt.title('Cooling curve')\n",
    "plt.xscale('log')\n",
    "plt.yscale('log')\n",
    "plt.ylim(1e-6, 11)\n",
    "plt.plot(tcool[ciso1<0], -ciso1[ciso1<0])\n",
    "plt.show()\n"
   ]
  },
  {
   "cell_type": "markdown",
   "metadata": {},
   "source": [
    "### vtk to csv (lines to points for speical refinement)"
   ]
  },
  {
   "cell_type": "code",
   "execution_count": null,
   "metadata": {},
   "outputs": [],
   "source": [
    "import pyvista as pv\n",
    "import numpy as np\n",
    "lines = pv.read('fs2d/data/tilt_lines.vtk')\n",
    "# Save points to CSV file\n",
    "points = lines.points\n",
    "np.savetxt('fs2d/data/tilt_points.csv', points, header=str(points.shape[0]), comments='')"
   ]
  },
  {
   "cell_type": "markdown",
   "metadata": {},
   "source": [
    "### 2D relaxation test"
   ]
  },
  {
   "cell_type": "code",
   "execution_count": null,
   "metadata": {},
   "outputs": [],
   "source": [
    "import yt\n",
    "import glob\n",
    "import os\n",
    "from simesh.frontends.amrvac.datio import get_header\n",
    "\n",
    "data_slice = './datas/'\n",
    "data_slice = './fs2d/data/'\n",
    "slice_list = glob.glob(os.path.join(data_slice, '*.dat'))\n",
    "slice_list.sort()\n",
    "\n",
    "units = dict(length_unit=(1e9, 'cm'), temperature_unit=(1e6, 'K'),\n",
    "            numberdensity_unit=(1e9, 'cm**-3'))\n",
    "            "
   ]
  },
  {
   "cell_type": "code",
   "execution_count": null,
   "metadata": {},
   "outputs": [],
   "source": [
    "slice0 = slice_list[0]\n",
    "# slice0 = './fs2d/data/fs2d0002.dat'\n",
    "ds = yt.load(slice0, units_override=units, unit_system='cgs')\n",
    "phys_vars = ['rho']\n",
    "# def _temperature(field, data):\n",
    "#     return 2.0/3.0*(data[('amrvac','e')]-1/2*data[('amrvac','m1')]**2/data['amrvac','rho']) / data[('amrvac','rho')]\n",
    "# ds.add_field((\"amrvac\",\"Te\"), function=_temperature, sampling_type='local', units=\"code_length**2/code_time**2\")\n",
    "for var in phys_vars:\n",
    "    p = yt.plot_2d(ds, var, origin='native')\n",
    "    # if var == 'm1':\n",
    "    #     p.set_log(var, False)\n",
    "    # p.set_log(var, False)\n",
    "    # p.set_zlim(var, -1, 0)\n",
    "    p.annotate_timestamp()\n",
    "    p.annotate_grids()\n",
    "    p.annotate_streamlines('b1','b2', density=2, color='white', linewidth=1.2)\n",
    "    p.show()"
   ]
  },
  {
   "cell_type": "code",
   "execution_count": null,
   "metadata": {},
   "outputs": [],
   "source": [
    "datfiles = glob.glob(\"./datas/*.dat\")\n",
    "datfiles.sort()\n",
    "\n",
    "units = dict(length_unit=(1e9, 'cm'), temperature_unit=(1e6, 'K'),\n",
    "            numberdensity_unit=(1e9, 'cm**-3'))\n",
    "\n",
    "for file in datfiles:\n",
    "    var = 'Te'\n",
    "    ds = yt.load(file, units_override=units, unit_system=\"cgs\")\n",
    "    p = yt.plot_2d(ds, var, origin='native')\n",
    "    p.annotate_timestamp()\n",
    "    p.annotate_streamlines('b1','b2', density=2, color='white', linewidth=1.2)\n",
    "    if var == 'rho':\n",
    "        p.set_zlim(var, 1e-1, 3e0)\n",
    "    # if var == 'Te': \n",
    "    #     p.set_zlim(var, 1e-2, 2e0)\n",
    "    if var == 'm1':\n",
    "        p.set_log(var, False)\n",
    "    p.save(f\"./figs/{file.split('/')[-1].split('.')[0]}+{var}.png\")\n",
    "\n",
    "# ffmpeg -framerate 12 -pattern_type glob -i ./figs/'*Te.png' -vf \"scale=trunc(iw/2)*2:trunc(ih/2)*2\" -c:v libx264 -pix_fmt yuv420p Te.mp4 "
   ]
  },
  {
   "cell_type": "code",
   "execution_count": null,
   "metadata": {},
   "outputs": [],
   "source": [
    "# export the points from vtk\n",
    "import pyvista as pv\n",
    "import numpy as np\n",
    "lines = pv.read('fs2d/data/lines.vtk')\n",
    "# Save points to CSV file\n",
    "points = lines.points\n",
    "np.savetxt('fs2d/data/lines_points.csv', points, header=str(points.shape[0]), comments='')"
   ]
  },
  {
   "cell_type": "code",
   "execution_count": null,
   "metadata": {},
   "outputs": [],
   "source": [
    "# prepare cheat\n",
    "# Filter points where y < 0.25\n",
    "points_filtered = points[points[:,1] < 0.25]\n",
    "np.random.shuffle(points_filtered)\n",
    "\n",
    "# Save filtered points to CSV file\n",
    "np.savetxt('fs2d/data/cheat.csv', points_filtered, header=str(points_filtered.shape[0]), comments='')\n"
   ]
  }
 ],
 "metadata": {
  "kernelspec": {
   "display_name": "mhdtp",
   "language": "python",
   "name": "python3"
  },
  "language_info": {
   "codemirror_mode": {
    "name": "ipython",
    "version": 3
   },
   "file_extension": ".py",
   "mimetype": "text/x-python",
   "name": "python",
   "nbconvert_exporter": "python",
   "pygments_lexer": "ipython3",
   "version": "3.11.8"
  }
 },
 "nbformat": 4,
 "nbformat_minor": 2
}

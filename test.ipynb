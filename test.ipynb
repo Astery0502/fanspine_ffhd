{
 "cells": [
  {
   "cell_type": "code",
   "execution_count": null,
   "metadata": {},
   "outputs": [],
   "source": [
    "import yt\n",
    "import glob\n",
    "import os\n",
    "from simesh.frontends.amrvac.datio import get_header\n",
    "\n",
    "data_slice = './datas'\n",
    "slice_list = glob.glob(os.path.join(data_slice, '*d2*.dat'))\n",
    "slice_list.sort()\n",
    "\n",
    "units = dict(length_unit=(1e9, 'cm'), temperature_unit=(1e6, 'K'),\n",
    "            numberdensity_unit=(1e9, 'cm**-3'))"
   ]
  },
  {
   "cell_type": "code",
   "execution_count": null,
   "metadata": {},
   "outputs": [],
   "source": [
    "with open(slice_list[33], 'rb+') as f:\n",
    "    header = get_header(f)"
   ]
  },
  {
   "cell_type": "code",
   "execution_count": null,
   "metadata": {},
   "outputs": [],
   "source": [
    "slice0 = slice_list[-1]\n",
    "# slice0 = 'data/fs_ffhd_d2_x+0.00D+00_n0000.dat'\n",
    "ds = yt.load(slice0, units_override=units, unit_system='cgs')\n",
    "phys_vars = ['rho']\n",
    "for var in phys_vars:\n",
    "    p = yt.plot_2d(ds, var, origin='native')\n",
    "    # p.set_zlim(var, 1e-2, 1e1)\n",
    "    p.annotate_timestamp()\n",
    "    p.annotate_grids()\n",
    "    p.show()"
   ]
  },
  {
   "cell_type": "code",
   "execution_count": null,
   "metadata": {},
   "outputs": [],
   "source": [
    "for i in range(0,len(slice_list)):\n",
    "    slice0 = slice_list[i]\n",
    "    ds = yt.load(slice0, units_override=units, unit_system='cgs')\n",
    "    phys_vars = ['te']\n",
    "    for var in phys_vars:\n",
    "        p = yt.plot_2d(ds, var, origin='native')\n",
    "        # p.set_zlim(var, 1e-2, 2)\n",
    "        p.annotate_timestamp()\n",
    "        p.save('./figs/slice'+str(i).zfill(4)+'_'+var+'.png')\n",
    "\n",
    "# ffmpeg -framerate 12 -pattern_type glob -i ./figs/'fs2d*_te.png' -vf \"scale=trunc(iw/2)*2:trunc(ih/2)*2\" -c:v libx264 -pix_fmt yuv420p te2d.mp4 "
   ]
  },
  {
   "cell_type": "markdown",
   "metadata": {},
   "source": [
    "## some tests"
   ]
  },
  {
   "cell_type": "code",
   "execution_count": null,
   "metadata": {},
   "outputs": [],
   "source": [
    "import yt\n",
    "from simesh.frontends.amrvac.datio import get_header"
   ]
  },
  {
   "cell_type": "code",
   "execution_count": null,
   "metadata": {},
   "outputs": [],
   "source": [
    "units = dict(length_unit=(1e9, 'cm'), temperature_unit=(1e6, 'K'),\n",
    "            numberdensity_unit=(1e9, 'cm**-3'))\n",
    "tfile = './data/fs_ffhd0000.dat'\n",
    "ds = yt.load(tfile, units_override=units, unit_system='cgs')\n"
   ]
  },
  {
   "cell_type": "code",
   "execution_count": null,
   "metadata": {},
   "outputs": [],
   "source": [
    "slc = yt.SlicePlot(ds, 'y', 'rho', origin='domain')\n",
    "slc.annotate_grids()\n",
    "slc.annotate_streamlines('b3','b1', density=1, color='white', linewidth=1.2)\n",
    "slc.show()\n",
    "slc.save('./figs/fs2d0000_rho.png')"
   ]
  }
 ],
 "metadata": {
  "kernelspec": {
   "display_name": "mhdtp",
   "language": "python",
   "name": "python3"
  },
  "language_info": {
   "codemirror_mode": {
    "name": "ipython",
    "version": 3
   },
   "file_extension": ".py",
   "mimetype": "text/x-python",
   "name": "python",
   "nbconvert_exporter": "python",
   "pygments_lexer": "ipython3",
   "version": "3.11.8"
  }
 },
 "nbformat": 4,
 "nbformat_minor": 2
}

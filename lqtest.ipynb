{
 "cells": [
  {
   "cell_type": "code",
   "execution_count": null,
   "metadata": {},
   "outputs": [],
   "source": [
    "from simesh import amr_loader\n",
    "ds = amr_loader('/users/cpa/haow/codes/projects/fanspine_ffhd/qsl/data/fs_qsl0000.dat')\n",
    "btotal = ds.mesh.udata[:,:,:,3:]"
   ]
  },
  {
   "cell_type": "code",
   "execution_count": null,
   "metadata": {},
   "outputs": [],
   "source": [
    "import matplotlib.pyplot as plt\n",
    "plt.imshow(btotal[50:350,50:350,0,2])"
   ]
  },
  {
   "cell_type": "code",
   "execution_count": null,
   "metadata": {},
   "outputs": [],
   "source": [
    "# generate bfield for K-QSL code\n",
    "import numpy as np\n",
    "with open(r'/users/cpa/haow/codes/projects/fanspine_ffhd/qsl/data/bxyz.binary', 'wb') as file:\n",
    "    b1f = btotal[...,0].T\n",
    "    b2f = btotal[...,1].T\n",
    "    b3f = btotal[...,2].T\n",
    "    b1f.tofile(file)\n",
    "    b2f.tofile(file)\n",
    "    b3f.tofile(file)\n",
    "data = np.fromfile('/users/cpa/haow/codes/projects/fanspine_ffhd/qsl/data/bxyz.binary', dtype=np.float64)\n",
    "array = data.reshape((3,400,400,600)).T"
   ]
  },
  {
   "cell_type": "code",
   "execution_count": null,
   "metadata": {},
   "outputs": [],
   "source": [
    "# generate vtk file for visualization\n",
    "import pyvista as pv\n",
    "xmin = ds.header['xmin']; xmax = ds.header['xmax']\n",
    "nx, ny, nz = ds.header['domain_nx']\n",
    "\n",
    "spacing = np.array(xmax-xmin) / np.array([nx, ny, nz])\n",
    "origin = xmin + spacing/2\n",
    "x = np.linspace(xmin[0],xmax[0],nx+1)\n",
    "x = (x[1:]+x[:-1])/2\n",
    "y = np.linspace(xmin[2],xmax[2],nz+1)\n",
    "y = (y[1:]+y[:-1])/2\n",
    "\n",
    "mesh = pv.ImageData(dimensions=(nx, ny, nz), spacing=spacing, origin=origin)\n",
    "mesh['b1'] = btotal[...,0].T.reshape(-1)\n",
    "mesh['b2'] = btotal[...,1].T.reshape(-1)\n",
    "mesh['b3'] = btotal[...,2].T.reshape(-1)\n",
    "\n",
    "mesh.save('/users/cpa/haow/codes/projects/fanspine_ffhd/qsl/data/bu.vtk')"
   ]
  },
  {
   "cell_type": "markdown",
   "metadata": {},
   "source": [
    "## QSL analysis"
   ]
  },
  {
   "cell_type": "code",
   "execution_count": null,
   "metadata": {},
   "outputs": [],
   "source": [
    "import os\n",
    "import numpy as np\n",
    "import f90nml\n",
    "import matplotlib.pyplot as plt\n",
    "\n",
    "os.chdir('/users/cpa/haow/codes/QSL/QSL_cartesian/mytest')\n",
    "\n",
    "nml    = f90nml.read('par')\n",
    "infile = nml['filename_par']['outfilename']\n",
    "xstart = nml['cal_par']['x_start']\n",
    "ystart = nml['cal_par']['y_start']\n",
    "zstart = nml['cal_par']['z_start']\n",
    "xend   = nml['cal_par']['x_end']\n",
    "yend   = nml['cal_par']['y_end']\n",
    "zend   = nml['cal_par']['z_end']\n",
    "nlevel = nml['cal_par']['nlevel']\n",
    "\n",
    "xdim   = nlevel*(xend-xstart) + 1\n",
    "ydim   = nlevel*(yend-ystart) + 1\n",
    "zdim   = nlevel*(zend-zstart) + 1\n",
    "\n",
    "f    = open(infile,'rb')\n",
    "data = np.fromfile(f, dtype=np.double, count=xdim*ydim*zdim*3)\n",
    "q    = np.reshape(data,(3,zdim,ydim,xdim))\n",
    "\n",
    "# a1=plt.subplot(131)\n",
    "# plt.imshow(q[0,0,:,:],origin='lower')\n",
    "# plt.title('sign(Bz)log(Q)')\n",
    "\n",
    "# a2=plt.subplot(132)\n",
    "# plt.imshow(q[1,0,:,:],origin='lower')\n",
    "# plt.title('Field Line Length')\n",
    "\n",
    "# a3=plt.subplot(133)\n",
    "# plt.imshow(q[2,0,:,:],origin='lower')\n",
    "# plt.title('Mask')\n",
    "\n",
    "# plt.show()\n",
    "\n",
    "from matplotlib.colors import LogNorm\n",
    "plt.imshow(np.rot90(abs(q[0,:,20,:].T)), cmap='viridis', norm=LogNorm())\n",
    "plt.colorbar()"
   ]
  },
  {
   "cell_type": "code",
   "execution_count": null,
   "metadata": {},
   "outputs": [],
   "source": [
    "np.where(abs(q[0,:,:,:].T>0.8))"
   ]
  },
  {
   "cell_type": "code",
   "execution_count": null,
   "metadata": {},
   "outputs": [],
   "source": [
    "idx = np.where(abs(q[0,:,:,:].T)>0.8)\n",
    "xmin = np.array([-9, -4, 0])\n",
    "xmax = np.array([3, 4, 8])\n",
    "nx = 600; ny = 400; nz = 400\n",
    "xp = np.linspace(xmin[0], xmax[0], nx+1)\n",
    "xp = (xp[:-1]+xp[1:])/2\n",
    "yp = np.linspace(xmin[1], xmax[1], ny+1)\n",
    "yp = (yp[:-1]+yp[1:])/2\n",
    "zp = np.linspace(xmin[2], xmax[2], nz+1)\n",
    "zp = (zp[:-1]+zp[1:])/2\n",
    "x0 = xp[100]; x1 = xp[299]\n",
    "y0 = yp[180]; y1 = yp[219]\n",
    "z0 = zp[50]; z1 = zp[149]\n",
    "xp1 = np.linspace(x0, x1, 200); yp1 = np.linspace(y0, y1, 40); zp1 = np.linspace(z0, z1, 100)\n",
    "n_samples = min(1000, len(idx[0]))\n",
    "sample_indices = np.random.choice(len(idx[0]), size=n_samples, replace=False)\n",
    "xq = xp1[idx[0][sample_indices]]\n",
    "yq = yp1[idx[1][sample_indices]]\n",
    "zq = zp1[idx[2][sample_indices]]\n",
    "with open('/users/cpa/haow/codes/projects/fanspine_ffhd/points.txt', 'w') as f:\n",
    "    for x, y, z in zip(xq, yq, zq):\n",
    "        f.write(f'{x} {y} {z}\\n')"
   ]
  },
  {
   "cell_type": "code",
   "execution_count": null,
   "metadata": {},
   "outputs": [],
   "source": [
    "xp1[idx[0]]"
   ]
  },
  {
   "cell_type": "code",
   "execution_count": null,
   "metadata": {},
   "outputs": [],
   "source": []
  },
  {
   "cell_type": "markdown",
   "metadata": {},
   "source": [
    "## Use field lines"
   ]
  },
  {
   "cell_type": "code",
   "execution_count": null,
   "metadata": {},
   "outputs": [],
   "source": [
    "import pyvista as pv\n",
    "lines = '/users/cpa/haow/codes/projects/fanspine_ffhd/qsl/data/lines.vtk'\n",
    "line_data = pv.read(lines)\n",
    "points = line_data.points\n",
    "#np.savetxt('/users/cpa/haow/codes/projects/fanspine_ffhd/data/line_points.csv', line_data.points, delimiter=' ', fmt='%.6f')"
   ]
  },
  {
   "cell_type": "code",
   "execution_count": null,
   "metadata": {},
   "outputs": [],
   "source": [
    "mask1 = (abs(points[:,1])< 1) & (points[:,2]<0.02) & (points[:,0]<-7)\n",
    "mask2 = (abs(points[:,1])< 1) & (points[:,2]<0.02) & (points[:,0]>-4)\n",
    "fpl = points[mask1]\n",
    "fpr = points[mask2]"
   ]
  },
  {
   "cell_type": "code",
   "execution_count": null,
   "metadata": {},
   "outputs": [],
   "source": [
    "plt.scatter(fpl[:,0], fpl[:,2])"
   ]
  },
  {
   "cell_type": "code",
   "execution_count": null,
   "metadata": {},
   "outputs": [],
   "source": []
  },
  {
   "cell_type": "code",
   "execution_count": null,
   "metadata": {},
   "outputs": [],
   "source": [
    "# plot amr grids in special refine control\n",
    "import yt\n",
    "os.chdir('/users/cpa/haow/codes/projects/fanspine_ffhd')\n",
    "datfile = 'data/fs_ffhd0000.dat'\n",
    "\n",
    "ds = yt.load(datfile)\n",
    "\n",
    "slc = yt.SlicePlot(ds, 'x', 'rho', origin='native')\n",
    "slc.annotate_grids()\n",
    "slc.annotate_streamlines('b2','b3', density=1, color='white', linewidth=1.2)\n",
    "slc.show()"
   ]
  }
 ],
 "metadata": {
  "kernelspec": {
   "display_name": "mhdtp",
   "language": "python",
   "name": "python3"
  },
  "language_info": {
   "codemirror_mode": {
    "name": "ipython",
    "version": 3
   },
   "file_extension": ".py",
   "mimetype": "text/x-python",
   "name": "python",
   "nbconvert_exporter": "python",
   "pygments_lexer": "ipython3",
   "version": "3.11.8"
  }
 },
 "nbformat": 4,
 "nbformat_minor": 2
}
